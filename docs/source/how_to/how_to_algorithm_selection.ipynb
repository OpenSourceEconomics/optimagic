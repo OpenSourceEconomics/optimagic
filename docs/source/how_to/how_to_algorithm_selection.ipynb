{
 "cells": [
  {
   "cell_type": "markdown",
   "metadata": {},
   "source": [
    "# Which optimizer to use\n",
    "\n",
    "This is a short and a simplified guide on selecting an optimization algorithm based on the properties of your problem.\n",
    "\n",
    "Knowledge of those properties can significantly narrow the set of algorithms best suited for your problem. \n",
    "\n",
    "### Choosing a local optimizer\n",
    "```mermaid\n",
    "graph LR\n",
    "    classDef highlight fill:#FF4500;\n",
    "    A[\"Do you have<br/>nonlinear constraints?\"] -- yes --> B[\"differentiable?\"]\n",
    "    B[\"differentiable?\"] -- yes --> C[\"'ipopt', 'nlopt_slsqp', 'scipy_trust_constr'\"]\n",
    "    B[\"differentiable?\"] -- no --> D[\"'scipy_cobyla', 'nlopt_cobyla'\"]\n",
    "\n",
    "    A[\"Do you have<br/>nonlinear constraints?\"] -- no --> E[\"Can you exploit<br/>a least-squares<br/>structure?\"]\n",
    "    E[\"Can you exploit<br/>a least-squares<br/>structure?\"] -- yes --> F[\"differentiable?\"]\n",
    "    E[\"Can you exploit<br/>a least-squares<br/>structure?\"] -- no --> G[\"differentiable?\"]\n",
    "\n",
    "    F[\"differentiable?\"] -- yes --> H[\"'scipy_ls_lm', 'scipy_ls_trf', 'scipy_ls_dogleg'\"]\n",
    "    F[\"differentiable?\"] -- no --> I[\"'nag_dflos', 'pounders', 'tao_pounders'\"]\n",
    "\n",
    "    G[\"differentiable?\"] -- yes --> J[\"'scipy_lbfgsb', 'fides'\"]\n",
    "    G[\"differentiable?\"] -- no --> K[\"'nlopt_bobyqa', 'nlopt_neldermead', 'neldermead_parallel'\"]\n",
    "```\n",
    "\n",
    "Almost always, you will have more than one algorithm to try out choose the best by comparing them via the criterion plots [insert link]. \n",
    "\n",
    "Remember, no amount of theory can replace experimentation!\n"
   ]
  },
  {
   "cell_type": "markdown",
   "metadata": {},
   "source": [
    "## Define some inputs\n",
    "\n",
    "Again, we use versions of the sphere function to illustrate how to select these algorithms in practice"
   ]
  },
  {
   "cell_type": "code",
   "execution_count": 2,
   "metadata": {},
   "outputs": [],
   "source": [
    "import numpy as np\n",
    "import optimagic as om"
   ]
  },
  {
   "cell_type": "code",
   "execution_count": 3,
   "metadata": {},
   "outputs": [],
   "source": [
    "def sphere(params):\n",
    "    out = {\n",
    "        \"value\": params @ params,\n",
    "        \"root_contributions\": params,\n",
    "    }\n",
    "    return out\n",
    "\n",
    "\n",
    "def sphere_gradient(params):\n",
    "    return params * 2\n",
    "\n",
    "\n",
    "start_params = np.arange(5)"
   ]
  },
  {
   "cell_type": "markdown",
   "metadata": {},
   "source": [
    "## Differentiable criterion function\n",
    "\n",
    "Use `scipy_lbfsgsb` as optimizer and provide the closed form derivative if you can. If you do not provide a derivative, optimagic will calculate it numerically. However, this is less precise and slower. "
   ]
  },
  {
   "cell_type": "code",
   "execution_count": null,
   "metadata": {},
   "outputs": [
    {
     "ename": "",
     "evalue": "",
     "output_type": "error",
     "traceback": [
      "\u001b[1;31mFailed to start the Kernel. \n",
      "\u001b[1;31mAttributeError: module 'collections' has no attribute 'MutableMapping'. \n",
      "\u001b[1;31mView Jupyter <a href='command:jupyter.viewOutput'>log</a> for further details."
     ]
    }
   ],
   "source": [
    "res = om.minimize(\n",
    "    fun=sphere,\n",
    "    params=start_params,\n",
    "    algorithm=\"scipy_lbfgsb\",\n",
    "    jac=sphere_gradient,\n",
    ")\n",
    "res.n_fun_evals"
   ]
  },
  {
   "cell_type": "markdown",
   "metadata": {},
   "source": [
    "Note that this solves a 5 dimensional problem with just 3 criterion evaluations. For higher dimensions, you will need more, but it scales very well to dozens and hundreds of parameters. \n",
    "\n",
    "If you are worried about being stuck in a local optimum, use multistart optimization."
   ]
  },
  {
   "cell_type": "markdown",
   "metadata": {},
   "source": [
    "## Not differentiable, only scalar output"
   ]
  },
  {
   "cell_type": "markdown",
   "metadata": {},
   "source": [
    "Use `nag_pybobyqa`. Note that for this you need to install the `PyBOBYQA` package if you do not already have it:\n",
    "    \n",
    "`pip install Py-BOBYQA`\n",
    "\n",
    "Then you select the algorithm as follows:"
   ]
  },
  {
   "cell_type": "code",
   "execution_count": null,
   "metadata": {},
   "outputs": [
    {
     "ename": "",
     "evalue": "",
     "output_type": "error",
     "traceback": [
      "\u001b[1;31mFailed to start the Kernel. \n",
      "\u001b[1;31mAttributeError: module 'collections' has no attribute 'MutableMapping'. \n",
      "\u001b[1;31mView Jupyter <a href='command:jupyter.viewOutput'>log</a> for further details."
     ]
    }
   ],
   "source": [
    "res = om.minimize(\n",
    "    fun=sphere,\n",
    "    params=start_params,\n",
    "    algorithm=\"nag_pybobyqa\",\n",
    ")\n",
    "res.n_fun_evals"
   ]
  },
  {
   "cell_type": "markdown",
   "metadata": {},
   "source": [
    "## Not differentiable, least squares structure\n",
    "\n",
    "Use `nag_dfols`. To use `nag_dfols`, you need to install it via:\n",
    "\n",
    "`pip install DFO-LS`\n",
    "\n",
    "\n",
    "This optimizer will only work if your criterion function returns a dictionary that contains the entry `root_contributions`. This needs to be a numpy array or pytree that contains the residuals of the least squares problem. "
   ]
  },
  {
   "cell_type": "code",
   "execution_count": null,
   "metadata": {},
   "outputs": [
    {
     "ename": "",
     "evalue": "",
     "output_type": "error",
     "traceback": [
      "\u001b[1;31mFailed to start the Kernel. \n",
      "\u001b[1;31mAttributeError: module 'collections' has no attribute 'MutableMapping'. \n",
      "\u001b[1;31mView Jupyter <a href='command:jupyter.viewOutput'>log</a> for further details."
     ]
    }
   ],
   "source": [
    "res = om.minimize(\n",
    "    fun=sphere,\n",
    "    params=start_params,\n",
    "    algorithm=\"nag_dfols\",\n",
    ")\n",
    "res.n_fun_evals"
   ]
  }
 ],
 "metadata": {
  "kernelspec": {
   "display_name": "Python 3 (ipykernel)",
   "language": "python",
   "name": "python3"
  },
  "language_info": {
   "codemirror_mode": {
    "name": "ipython",
    "version": 3
   },
   "file_extension": ".py",
   "mimetype": "text/x-python",
   "name": "python",
   "nbconvert_exporter": "python",
   "pygments_lexer": "ipython3",
   "version": "3.10.14"
  }
 },
 "nbformat": 4,
 "nbformat_minor": 4
}
