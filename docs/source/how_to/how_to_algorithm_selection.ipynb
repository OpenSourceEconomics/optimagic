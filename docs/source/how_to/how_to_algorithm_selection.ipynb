{
 "cells": [
  {
   "cell_type": "markdown",
   "metadata": {},
   "source": [
    "(how-to-select-algorithms)=\n",
    "# How to select a local optimizer\n",
    "## Why choosing the right optimizer is difficult\n",
    "\n",
    "Optimization without the knowldge of the properties of the problem we are trying to solve is difficult. \n",
    "\n",
    "The only algorithms that are guaranteed to solve all problems are grid search or other algorithms that evaluate the criterion function almost everywhere in the parameter space.\n",
    "\n",
    "If you have more than a hand full of parameters, these methods would take too long.\n",
    "\n",
    "Thus, you have to know the properties of your optimization problem and have knowledge about different optimization algorithms in order to choose the right algorithm for your problem.\n",
    "\n",
    "## How to approach algorithm selection\n",
    "\n",
    "We recommend the following workflow to choose algorithms:\n",
    "  1. Based on the theoretical properties of your problem, narrow the set of algorithms to experiment with to 2-3 algorithms.\n",
    "  2. Run the algorithms for smaller number of iterations. As a rule of thumb, use 10*`n_params` iterations or function evaluations.\n",
    "  3. Compare the results in a criterion plot.\n",
    "  4. Re run the optimization algorithm with the best results until a convergence criterion is achieved.\n",
    "  \n",
    "## Step 1: Choosing candidates\n",
    "\n",
    "The below decision tree offers a practical guide on how to narrow down the set of algorithms to experiment with, based on the theoretical properties of your problem:\n",
    "```{mermaid}\n",
    "graph LR\n",
    "    classDef highlight fill:#FF4500;\n",
    "    A[\"Do you have<br/>nonlinear constraints?\"] -- yes --> B[\"differentiable?\"]\n",
    "    B[\"differentiable?\"] -- yes --> C[\"'ipopt', 'nlopt_slsqp', 'scipy_trust_constr'\"]\n",
    "    B[\"differentiable?\"] -- no --> D[\"'scipy_cobyla', 'nlopt_cobyla'\"]\n",
    "\n",
    "    A[\"Do you have<br/>nonlinear constraints?\"] -- no --> E[\"Can you exploit<br/>a least-squares<br/>structure?\"]\n",
    "    E[\"Can you exploit<br/>a least-squares<br/>structure?\"] -- yes --> F[\"differentiable?\"]\n",
    "    E[\"Can you exploit<br/>a least-squares<br/>structure?\"] -- no --> G[\"differentiable?\"]\n",
    "\n",
    "    F[\"differentiable?\"] -- yes --> H[\"'scipy_ls_lm', 'scipy_ls_trf', 'scipy_ls_dogleg'\"]\n",
    "    F[\"differentiable?\"] -- no --> I[\"'nag_dflos', 'pounders', 'tao_pounders'\"]\n",
    "\n",
    "    G[\"differentiable?\"] -- yes --> J[\"'scipy_lbfgsb', 'nlopt_lbfgsb', 'fides'\"]\n",
    "    G[\"differentiable?\"] -- no --> K[\"'nlopt_bobyqa', 'nlopt_neldermead', 'neldermead_parallel'\"]\n",
    "```\n",
    "\n"
   ]
  },
  {
   "cell_type": "code",
   "execution_count": null,
   "metadata": {},
   "outputs": [],
   "source": [
    "import numpy as np\n",
    "\n",
    "import optimagic as om"
   ]
  },
  {
   "cell_type": "code",
   "execution_count": null,
   "metadata": {},
   "outputs": [],
   "source": [
    "def trid_scalar(x):\n",
    "    \"\"\"Implement Trid function: https://www.sfu.ca/~ssurjano/trid.html.\"\"\"\n",
    "    return ((x - 1) ** 2).sum() - (x[1:] * x[:-1]).sum()\n",
    "\n",
    "\n",
    "def trid_gradient(x):\n",
    "    \"\"\"Calculate gradient of trid function.\"\"\"\n",
    "    l1 = np.insert(x, 0, 0)\n",
    "    l1 = np.delete(l1, [-1])\n",
    "    l2 = np.append(x, 0)\n",
    "    l2 = np.delete(l2, [0])\n",
    "    return 2 * (x - 1) - l1 - l2\n",
    "\n",
    "\n",
    "results = {}\n",
    "for algo in [\"scipy_lbfgsb\", \"nlopt_lbfgsb\", \"fides\"]:\n",
    "    results[algo] = om.minimize(\n",
    "        fun=trid_scalar,\n",
    "        jac=trid_gradient,\n",
    "        params=np.arange(20),\n",
    "        algorithm=algo,\n",
    "        algo_options={\"stopping_maxfun\": 8, \"stopping_maxiter\": 8},\n",
    "    )"
   ]
  },
  {
   "cell_type": "code",
   "execution_count": null,
   "metadata": {},
   "outputs": [],
   "source": [
    "fig = om.criterion_plot(results, max_evaluations=8)\n",
    "fig.show(renderer=\"png\")"
   ]
  },
  {
   "cell_type": "code",
   "execution_count": null,
   "metadata": {},
   "outputs": [],
   "source": [
    "best_x = results[\"nlopt_lbfgsb\"].params\n",
    "results[\"nlopt_lbfgsb_complete\"] = om.minimize(\n",
    "    fun=trid_scalar,\n",
    "    jac=trid_gradient,\n",
    "    params=best_x,\n",
    "    algorithm=\"nlopt_lbfgsb\",\n",
    ")"
   ]
  },
  {
   "cell_type": "code",
   "execution_count": null,
   "metadata": {},
   "outputs": [],
   "source": [
    "fig = om.criterion_plot(results)\n",
    "fig.show(renderer=\"png\")"
   ]
  }
 ],
 "metadata": {
  "kernelspec": {
   "display_name": "Python 3 (ipykernel)",
   "language": "python",
   "name": "python3"
  },
  "language_info": {
   "codemirror_mode": {
    "name": "ipython",
    "version": 3
   },
   "file_extension": ".py",
   "mimetype": "text/x-python",
   "name": "python",
   "nbconvert_exporter": "python",
   "pygments_lexer": "ipython3",
   "version": "3.10.15"
  }
 },
 "nbformat": 4,
 "nbformat_minor": 4
}
